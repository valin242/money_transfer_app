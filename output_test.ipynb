{
 "cells": [
  {
   "cell_type": "code",
   "execution_count": 4,
   "metadata": {},
   "outputs": [],
   "source": [
    "import pandas as pd\n",
    "import numpy as np"
   ]
  },
  {
   "cell_type": "code",
   "execution_count": 11,
   "metadata": {},
   "outputs": [],
   "source": [
    "username = 'valin242'\n",
    "pwd = 'valin424'\n",
    "\n",
    "# Example dfs for accounts and transactions for Testing\n",
    "accounts_secure = pd.DataFrame(columns=['account_id', 'name', 'user_name', 'password'])\n",
    "my_account = pd.DataFrame(columns=['account_id', 'name', 'user_name', 'password', 'balance', 'transaction_type', 'transaction_amount'])\n",
    "my_balance = pd.DataFrame(columns=['account_id', ])\n",
    "\n",
    "details = np.array([11243423, 'tesh pierre', username, pwd, 50, 'deposit', 50.00])\n",
    "my_account.loc[len(my_account)] = details"
   ]
  },
  {
   "cell_type": "code",
   "execution_count": 23,
   "metadata": {},
   "outputs": [
    {
     "data": {
      "text/plain": [
       "50.0"
      ]
     },
     "execution_count": 23,
     "metadata": {},
     "output_type": "execute_result"
    }
   ],
   "source": [
    "round(float(my_account.loc[(len(my_account.index))-1, 'balance']), 2)"
   ]
  }
 ],
 "metadata": {
  "kernelspec": {
   "display_name": "Python 3",
   "language": "python",
   "name": "python3"
  },
  "language_info": {
   "codemirror_mode": {
    "name": "ipython",
    "version": 3
   },
   "file_extension": ".py",
   "mimetype": "text/x-python",
   "name": "python",
   "nbconvert_exporter": "python",
   "pygments_lexer": "ipython3",
   "version": "3.10.3"
  }
 },
 "nbformat": 4,
 "nbformat_minor": 2
}
